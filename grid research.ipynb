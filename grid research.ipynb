{
 "cells": [
  {
   "cell_type": "code",
   "execution_count": 1,
   "id": "0f622d48-576c-49bf-9bc1-cf2ce109134f",
   "metadata": {},
   "outputs": [
    {
     "name": "stdout",
     "output_type": "stream",
     "text": [
      "Requirement already satisfied: scikit-surprise in d:\\mycode\\venv\\lib\\site-packages (1.1.1)\n",
      "Requirement already satisfied: joblib>=0.11 in d:\\mycode\\venv\\lib\\site-packages (from scikit-surprise) (1.1.0)\n",
      "Requirement already satisfied: six>=1.10.0 in d:\\mycode\\venv\\lib\\site-packages (from scikit-surprise) (1.16.0)\n",
      "Requirement already satisfied: scipy>=1.0.0 in d:\\mycode\\venv\\lib\\site-packages (from scikit-surprise) (1.7.3)\n",
      "Requirement already satisfied: numpy>=1.11.2 in d:\\mycode\\venv\\lib\\site-packages (from scikit-surprise) (1.21.4)\n",
      "\n",
      "[notice] A new release of pip available: 22.1.2 -> 22.2.2\n",
      "[notice] To update, run: python.exe -m pip install --upgrade pip\n"
     ]
    },
    {
     "name": "stderr",
     "output_type": "stream",
     "text": [
      "WARNING: Ignoring invalid distribution -ip (d:\\mycode\\venv\\lib\\site-packages)\n",
      "WARNING: Ignoring invalid distribution -ip (d:\\mycode\\venv\\lib\\site-packages)\n",
      "WARNING: Ignoring invalid distribution -ip (d:\\mycode\\venv\\lib\\site-packages)\n",
      "WARNING: Ignoring invalid distribution -ip (d:\\mycode\\venv\\lib\\site-packages)\n",
      "WARNING: Ignoring invalid distribution -ip (d:\\mycode\\venv\\lib\\site-packages)\n",
      "WARNING: Ignoring invalid distribution -ip (d:\\mycode\\venv\\lib\\site-packages)\n"
     ]
    }
   ],
   "source": [
    "#import packages\n",
    "!pip install scikit-surprise"
   ]
  },
  {
   "cell_type": "code",
   "execution_count": 3,
   "id": "630324d8-9916-4682-a8fe-fbba7af0c039",
   "metadata": {},
   "outputs": [],
   "source": [
    "#data preperation\n",
    "import pandas as pd\n",
    "import numpy as np\n",
    "%matplotlib inline\n",
    "import matplotlib.pyplot as plt\n",
    "\n",
    "from surprise import Dataset, Reader\n",
    "from surprise import KNNWithZScore\n",
    "from surprise import SVD\n",
    "from surprise.model_selection import cross_validate, train_test_split, GridSearchCV\n",
    "\n",
    "events_df = pd.read_csv('D:\\MyCode\\project\\dataset\\\\processed events.csv').drop(columns='Unnamed: 0')\n",
    "events_df.astype(\"int32\")\n",
    "events_df=events_df.fillna(0).astype(int)\n",
    "reader = Reader(rating_scale=(1, 6))\n",
    "data = Dataset.load_from_df(events_df[['visitorid', 'itemid', 'event']], reader)"
   ]
  },
  {
   "cell_type": "markdown",
   "id": "41d7cb8a-199e-48bc-a437-fa7228c9411d",
   "metadata": {},
   "source": [
    "experiment below"
   ]
  },
  {
   "cell_type": "code",
   "execution_count": 6,
   "id": "9c9eed7a-1d48-4f2b-b7d5-075b49a750d5",
   "metadata": {},
   "outputs": [
    {
     "name": "stdout",
     "output_type": "stream",
     "text": [
      "{'split0_test_rmse': array([0.97683328, 0.96868968]), 'split1_test_rmse': array([0.99237581, 0.98610813]), 'split2_test_rmse': array([0.97874454, 0.97267434]), 'mean_test_rmse': array([0.98265121, 0.97582405]), 'std_test_rmse': array([0.00692046, 0.00745167]), 'rank_test_rmse': array([2, 1], dtype=int64), 'mean_fit_time': array([2.66399662, 4.78879277]), 'std_fit_time': array([0.04223911, 0.01590845]), 'mean_test_time': array([0.74658298, 0.76945655]), 'std_test_time': array([0.13324737, 0.00995525]), 'params': [{'n_epochs': 5}, {'n_epochs': 10}], 'param_n_epochs': [5, 10]}\n"
     ]
    }
   ],
   "source": [
    "\"\"\"\n",
    "change \"param_grid\" and \"gs\" to do research on new parameter. Parameters stated in grid research parameters.txt\n",
    "\n",
    "like\n",
    "param_grid = {'n_epochs': range(5,101,5)}\n",
    "gs = GridSearchCV(SVD, param_grid, measures=['rmse'], cv=3)\n",
    "\"\"\"\n",
    "\n",
    "param_grid = {'n_epochs': range(5,101,5)}\n",
    "gs = GridSearchCV(SVD, param_grid, measures=['rmse'], cv=3)\n",
    "gs.fit(data)\n",
    "print(gs.cv_results)\n",
    "\n"
   ]
  },
  {
   "cell_type": "code",
   "execution_count": 8,
   "id": "b3ce927d-1955-4018-ba5b-3fc519b1aceb",
   "metadata": {},
   "outputs": [],
   "source": [
    "\"\"\"\n",
    "change \"x_data\" to fit the results. See cv_results for the parameter name.\n",
    "\n",
    "like x_data=gs_data[\"param_n_epochs\"]\n",
    "\"\"\"\n",
    "\n",
    "gs_data=gs.cv_results\n",
    "x_data=gs_data[\"param_n_epochs\"]\n",
    "y_data=gs_data[\"mean_test_rmse\"]"
   ]
  },
  {
   "cell_type": "code",
   "execution_count": 10,
   "outputs": [
    {
     "data": {
      "text/plain": "array([0.98265121, 0.97582405])"
     },
     "execution_count": 10,
     "metadata": {},
     "output_type": "execute_result"
    }
   ],
   "source": [
    "#test cell\n",
    "y_data"
   ],
   "metadata": {
    "collapsed": false,
    "pycharm": {
     "name": "#%%\n"
    }
   }
  },
  {
   "cell_type": "code",
   "execution_count": 11,
   "outputs": [
    {
     "data": {
      "text/plain": "{5: 0.982651212990656, 10: 0.9758240509387578}"
     },
     "execution_count": 11,
     "metadata": {},
     "output_type": "execute_result"
    }
   ],
   "source": [
    "plt_data={}\n",
    "for i in range(len(x_data)):\n",
    "    plt_data[x_data[i]]=y_data[i]\n",
    "# show the data\n",
    "plt_data"
   ],
   "metadata": {
    "collapsed": false,
    "pycharm": {
     "name": "#%%\n"
    }
   }
  },
  {
   "cell_type": "code",
   "execution_count": 12,
   "outputs": [
    {
     "data": {
      "text/plain": "[<matplotlib.lines.Line2D at 0x18c96330640>]"
     },
     "execution_count": 12,
     "metadata": {},
     "output_type": "execute_result"
    },
    {
     "data": {
      "text/plain": "<Figure size 432x288 with 1 Axes>",
      "image/png": "[encoded data removed]"
     },
     "metadata": {
      "needs_background": "light"
     },
     "output_type": "display_data"
    }
   ],
   "source": [
    "\"\"\"\n",
    "change \"xlabel\" and \"xticks\" to fit the results.\n",
    "\"\"\"\n",
    "\n",
    "plt.xlabel(\"minimum neighbors\")\n",
    "plt.xticks(np.arange(1,6,1))\n",
    "plt.ylabel(\"mean RMSE\")\n",
    "plt.plot(plt_data.keys(),plt_data.values(),marker=\".\")\n",
    "\n",
    "\n",
    "\n",
    "\n",
    "\n"
   ],
   "metadata": {
    "collapsed": false,
    "pycharm": {
     "name": "#%%\n"
    }
   }
  }
 ],
 "metadata": {
  "kernelspec": {
   "display_name": "Python 3 (ipykernel)",
   "language": "python",
   "name": "python3"
  },
  "language_info": {
   "codemirror_mode": {
    "name": "ipython",
    "version": 3
   },
   "file_extension": ".py",
   "mimetype": "text/x-python",
   "name": "python",
   "nbconvert_exporter": "python",
   "pygments_lexer": "ipython3",
   "version": "3.9.7"
  }
 },
 "nbformat": 4,
 "nbformat_minor": 5
}