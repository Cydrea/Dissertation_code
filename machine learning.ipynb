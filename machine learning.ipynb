{
 "cells": [
  {
   "cell_type": "markdown",
   "id": "18c1f752-07fb-4d5a-8c9e-bc3c255cd002",
   "metadata": {},
   "source": [
    "packages import module"
   ]
  },
  {
   "cell_type": "code",
   "execution_count": 12,
   "id": "09a2087e-9986-46ec-8b77-1e37e95dda4d",
   "metadata": {},
   "outputs": [
    {
     "name": "stdout",
     "output_type": "stream",
     "text": [
      "Requirement already satisfied: scikit-surprise in /opt/conda/lib/python3.9/site-packages (1.1.1)\n",
      "Requirement already satisfied: six>=1.10.0 in /opt/conda/lib/python3.9/site-packages (from scikit-surprise) (1.16.0)\n",
      "Requirement already satisfied: scipy>=1.0.0 in /opt/conda/lib/python3.9/site-packages (from scikit-surprise) (1.7.3)\n",
      "Requirement already satisfied: numpy>=1.11.2 in /opt/conda/lib/python3.9/site-packages (from scikit-surprise) (1.20.3)\n",
      "Requirement already satisfied: joblib>=0.11 in /opt/conda/lib/python3.9/site-packages (from scikit-surprise) (1.1.0)\n"
     ]
    }
   ],
   "source": [
    "#import packages\n",
    "!pip install scikit-surprise"
   ]
  },
  {
   "cell_type": "code",
   "execution_count": 13,
   "id": "c54718d1-ff79-49bc-bf90-05739cfa64e0",
   "metadata": {},
   "outputs": [],
   "source": [
    "import pandas as pd\n",
    "%matplotlib inline\n",
    "import matplotlib.pyplot as plt\n",
    "import seaborn as sns\n",
    "from collections import defaultdict\n",
    "from surprise import Dataset, Reader\n",
    "from surprise import KNNBasic, KNNWithMeans, KNNWithZScore, KNNBaseline\n",
    "from surprise import SVD, NMF\n",
    "from surprise.model_selection import cross_validate, train_test_split, GridSearchCV"
   ]
  },
  {
   "cell_type": "markdown",
   "id": "6752d573-f645-49ee-8118-cd0e5332a617",
   "metadata": {},
   "source": [
    "datasets import module"
   ]
  },
  {
   "cell_type": "code",
   "execution_count": 14,
   "id": "bfb6cf34-138b-47b9-9618-2a3795238c8d",
   "metadata": {},
   "outputs": [],
   "source": [
    "#import dataset\n",
    "events_df = pd.read_csv('processed events.csv').drop(columns='Unnamed: 0')"
   ]
  },
  {
   "cell_type": "markdown",
   "id": "f8303946-5888-4776-9ab1-2a56e8165c27",
   "metadata": {},
   "source": [
    "DATA: RATING 1-3-6"
   ]
  },
  {
   "cell_type": "code",
   "execution_count": 15,
   "id": "0413a4a4-d0c0-4236-b5a3-bcda454400ef",
   "metadata": {},
   "outputs": [],
   "source": [
    "#1-3-6 structure\n",
    "events_df.astype(\"int32\")\n",
    "events_df=events_df.fillna(0).astype(int)\n",
    "#events_df"
   ]
  },
  {
   "cell_type": "code",
   "execution_count": 16,
   "id": "8555e6b4-1ca6-4dd6-92b7-71170d71b0e9",
   "metadata": {},
   "outputs": [],
   "source": [
    "reader = Reader(rating_scale=(1, 6))\n",
    "data = Dataset.load_from_df(events_df[['visitorid', 'itemid', 'event']], reader)"
   ]
  },
  {
   "cell_type": "markdown",
   "id": "8e7ba983-7784-42ef-a874-b83baa51589c",
   "metadata": {},
   "source": [
    "algorithm selection module\n"
   ]
  },
  {
   "cell_type": "code",
   "execution_count": 28,
   "id": "080b9c47-4fd7-405f-90cc-0fb0989bbc5e",
   "metadata": {},
   "outputs": [
    {
     "data": {
      "text/plain": [
       "test_rmse     0.975756\n",
       "test_mae      0.476093\n",
       "fit_time     14.816194\n",
       "test_time     0.842333\n",
       "dtype: float64"
      ]
     },
     "execution_count": 28,
     "metadata": {},
     "output_type": "execute_result"
    }
   ],
   "source": [
    "\"\"\"\n",
    "the model selection module, including KNNs (4 models,3 similarities), model-based (SVD, NMF).\n",
    "change the parameter model to get different data.\n",
    "\n",
    "model=SVD, NMF, KNNBasic, KNNWithMeans, KNNWithZScore, KNNBaseline\n",
    "similarities=cosine, msd, pearson\n",
    "\n",
    "like model = SVD(), model = KNNBaseline(sim_option=\"msd\")\n",
    "\"\"\"\n",
    "model = SVD()\n",
    "modelResult = cross_validate(model, data, cv=3)\n",
    "pd.DataFrame(modelResult).mean()\n",
    "\n"
   ]
  },
  {
   "cell_type": "markdown",
   "id": "78fe2b8c-47dd-47f7-bc5e-498a87d9b55d",
   "metadata": {
    "tags": []
   },
   "source": [
    "machine learning module\n"
   ]
  },
  {
   "cell_type": "markdown",
   "id": "2dd3133d-43ee-4650-9785-a61678997445",
   "metadata": {},
   "source": [
    "training"
   ]
  },
  {
   "cell_type": "code",
   "execution_count": 12,
   "id": "2e2c5c07-06f2-4f9f-8d70-18ba2f9867c9",
   "metadata": {},
   "outputs": [
    {
     "name": "stdout",
     "output_type": "stream",
     "text": [
      "Computing the msd similarity matrix...\n",
      "Done computing similarity matrix.\n"
     ]
    }
   ],
   "source": [
    "#prediction KNN\n",
    "trainset, testset = train_test_split(data, test_size=0.2)\n",
    "\n",
    "model = KNNWithZScore(k=45,min_k=5,sim_option=\"Pearson\")\n",
    "model.fit(trainset)\n",
    "predictions = model.test(testset)\n"
   ]
  },
  {
   "cell_type": "code",
   "execution_count": 10,
   "id": "6e94df74-b0b5-44cf-baa3-47e5f4e77bcf",
   "metadata": {},
   "outputs": [],
   "source": [
    "#prediction SVD\n",
    "trainset, testset = train_test_split(data, test_size=0.2)\n",
    "\n",
    "model = SVD(n_factors=60, n_epochs=40, lr_all=0.004, reg_all=0.24)\n",
    "model.fit(trainset)\n",
    "predictions = model.test(testset)\n"
   ]
  },
  {
   "cell_type": "code",
   "execution_count": null,
   "id": "363d0c9d-38e1-442c-a530-e1f2840c373e",
   "metadata": {},
   "outputs": [],
   "source": [
    "#test cell\n",
    "predictions"
   ]
  },
  {
   "cell_type": "markdown",
   "source": [
    "Evaluating module. There is only one *predictions* variable, run the KNN or the SVD cell to proceed."
   ],
   "metadata": {
    "collapsed": false,
    "pycharm": {
     "name": "#%% md\n"
    }
   }
  },
  {
   "cell_type": "code",
   "execution_count": null,
   "outputs": [],
   "source": [
    "def classify(rating, ignore):\n",
    "    event=0.5\n",
    "    if ignore < rating <= 2.0:\n",
    "        event=1\n",
    "    elif 2.0 < rating <= 3.5:\n",
    "        event=3\n",
    "    elif rating>3.5:\n",
    "        event=6\n",
    "    return event\n"
   ],
   "metadata": {
    "collapsed": false,
    "pycharm": {
     "name": "#%%\n"
    }
   }
  },
  {
   "cell_type": "code",
   "execution_count": null,
   "outputs": [],
   "source": [
    "#calculate percision and recall\n",
    "\n",
    "def precision_recall_at_k(predictions, k=10, threshold=1, ignore=1):\n",
    "\n",
    "    \"\"\"Return precision and recall at k metrics for each user\"\"\"\n",
    "\n",
    "    # First map the predictions to each user.\n",
    "    user_est_true = defaultdict(list)\n",
    "    for uid, _, true_r, est, _ in predictions:\n",
    "        user_est_true[uid].append((classify(est, ignore), true_r))\n",
    "\n",
    "    precisions = dict()\n",
    "    recalls = dict()\n",
    "    for uid, user_ratings in user_est_true.items():\n",
    "\n",
    "        # Sort user ratings by estimated value\n",
    "        user_ratings.sort(key=lambda x: x[0], reverse=True)\n",
    "\n",
    "        # Number of relevant items\n",
    "        n_rel = sum((true_r >= threshold) for (_, true_r) in user_ratings)\n",
    "\n",
    "        # Number of recommended items in top k\n",
    "        n_rec_k = sum((est >= threshold) for (est, _) in user_ratings[:k])\n",
    "\n",
    "        # Number of relevant and recommended items in top k\n",
    "        n_rel_and_rec_k = sum(((true_r >= threshold) and (est >= threshold))\n",
    "                              for (est, true_r) in user_ratings[:k])\n",
    "\n",
    "        # Precision@K: Proportion of recommended items that are relevant\n",
    "        # When n_rec_k is 0, Precision is undefined. We here set it to 0.\n",
    "\n",
    "        precisions[uid] = n_rel_and_rec_k / n_rec_k if n_rec_k != 0 else 0\n",
    "\n",
    "        # Recall@K: Proportion of relevant items that are recommended\n",
    "        # When n_rel is 0, Recall is undefined. We here set it to 0.\n",
    "\n",
    "        recalls[uid] = n_rel_and_rec_k / n_rel if n_rel != 0 else 0\n",
    "\n",
    "    return precisions, recalls"
   ],
   "metadata": {
    "collapsed": false,
    "pycharm": {
     "name": "#%%\n"
    }
   }
  },
  {
   "cell_type": "code",
   "execution_count": null,
   "outputs": [],
   "source": [
    "#print precision and recall\n",
    "precisions, recalls = precision_recall_at_k(predictions, k=5, threshold=1, ignore=1.2)\n",
    "\n",
    "print(\"precision = \",end=\"\")\n",
    "print(sum(prec for prec in precisions.values()) / len(precisions))\n",
    "\n",
    "print(\"recall = \",end=\"\")\n",
    "print(sum(rec for rec in recalls.values()) / len(recalls))\n",
    "\n"
   ],
   "metadata": {
    "collapsed": false,
    "pycharm": {
     "name": "#%%\n"
    }
   }
  },
  {
   "cell_type": "code",
   "execution_count": 23,
   "id": "8789f79c-4efa-4613-8ae3-851dd30ae8a0",
   "metadata": {},
   "outputs": [
    {
     "data": {
      "text/html": [
       "<div>\n",
       "<style scoped>\n",
       "    .dataframe tbody tr th:only-of-type {\n",
       "        vertical-align: middle;\n",
       "    }\n",
       "\n",
       "    .dataframe tbody tr th {\n",
       "        vertical-align: top;\n",
       "    }\n",
       "\n",
       "    .dataframe thead th {\n",
       "        text-align: right;\n",
       "    }\n",
       "</style>\n",
       "<table border=\"1\" class=\"dataframe\">\n",
       "  <thead>\n",
       "    <tr style=\"text-align: right;\">\n",
       "      <th></th>\n",
       "      <th>visitorid</th>\n",
       "      <th>itemid</th>\n",
       "      <th>actual_rating</th>\n",
       "      <th>pred_rating</th>\n",
       "      <th>impossible</th>\n",
       "      <th>pred_rating_round</th>\n",
       "      <th>abs_err</th>\n",
       "      <th>round_err</th>\n",
       "      <th>pred_classified</th>\n",
       "      <th>err_classified</th>\n",
       "    </tr>\n",
       "  </thead>\n",
       "  <tbody>\n",
       "    <tr>\n",
       "      <th>50199</th>\n",
       "      <td>665732</td>\n",
       "      <td>136546</td>\n",
       "      <td>1.0</td>\n",
       "      <td>1.110334</td>\n",
       "      <td>False</td>\n",
       "      <td>1.0</td>\n",
       "      <td>0.110334</td>\n",
       "      <td>0.0</td>\n",
       "      <td>1.0</td>\n",
       "      <td>0.0</td>\n",
       "    </tr>\n",
       "    <tr>\n",
       "      <th>46641</th>\n",
       "      <td>1150086</td>\n",
       "      <td>398115</td>\n",
       "      <td>6.0</td>\n",
       "      <td>1.706111</td>\n",
       "      <td>False</td>\n",
       "      <td>2.0</td>\n",
       "      <td>4.293889</td>\n",
       "      <td>4.0</td>\n",
       "      <td>1.0</td>\n",
       "      <td>5.0</td>\n",
       "    </tr>\n",
       "    <tr>\n",
       "      <th>19247</th>\n",
       "      <td>244756</td>\n",
       "      <td>25002</td>\n",
       "      <td>1.0</td>\n",
       "      <td>1.000000</td>\n",
       "      <td>False</td>\n",
       "      <td>1.0</td>\n",
       "      <td>0.000000</td>\n",
       "      <td>0.0</td>\n",
       "      <td>1.0</td>\n",
       "      <td>0.0</td>\n",
       "    </tr>\n",
       "    <tr>\n",
       "      <th>10305</th>\n",
       "      <td>683140</td>\n",
       "      <td>444697</td>\n",
       "      <td>1.0</td>\n",
       "      <td>1.602900</td>\n",
       "      <td>False</td>\n",
       "      <td>2.0</td>\n",
       "      <td>0.602900</td>\n",
       "      <td>1.0</td>\n",
       "      <td>1.0</td>\n",
       "      <td>0.0</td>\n",
       "    </tr>\n",
       "    <tr>\n",
       "      <th>19631</th>\n",
       "      <td>233961</td>\n",
       "      <td>28312</td>\n",
       "      <td>1.0</td>\n",
       "      <td>1.000000</td>\n",
       "      <td>False</td>\n",
       "      <td>1.0</td>\n",
       "      <td>0.000000</td>\n",
       "      <td>0.0</td>\n",
       "      <td>1.0</td>\n",
       "      <td>0.0</td>\n",
       "    </tr>\n",
       "  </tbody>\n",
       "</table>\n",
       "</div>"
      ],
      "text/plain": [
       "       visitorid  itemid  actual_rating  pred_rating  impossible  \\\n",
       "50199     665732  136546            1.0     1.110334       False   \n",
       "46641    1150086  398115            6.0     1.706111       False   \n",
       "19247     244756   25002            1.0     1.000000       False   \n",
       "10305     683140  444697            1.0     1.602900       False   \n",
       "19631     233961   28312            1.0     1.000000       False   \n",
       "\n",
       "       pred_rating_round   abs_err  round_err  pred_classified  err_classified  \n",
       "50199                1.0  0.110334        0.0              1.0             0.0  \n",
       "46641                2.0  4.293889        4.0              1.0             5.0  \n",
       "19247                1.0  0.000000        0.0              1.0             0.0  \n",
       "10305                2.0  0.602900        1.0              1.0             0.0  \n",
       "19631                1.0  0.000000        0.0              1.0             0.0  "
      ]
     },
     "execution_count": 23,
     "metadata": {},
     "output_type": "execute_result"
    }
   ],
   "source": [
    "#prediction\n",
    "df_pred = pd.DataFrame(predictions, columns=['visitorid', 'itemid', 'actual_rating', 'pred_rating', 'details'])\n",
    "\n",
    "df_pred['impossible'] = df_pred['details'].apply(lambda x: x['was_impossible'])\n",
    "df_pred['pred_rating_round'] = df_pred['pred_rating'].round()\n",
    "df_pred['abs_err'] = abs(df_pred['pred_rating'] - df_pred['actual_rating'])\n",
    "df_pred['round_err']=abs(df_pred['pred_rating_round'] - df_pred['actual_rating'])\n",
    "df_pred['pred_classified']=df_pred['pred_rating_round'].replace(2.0,1.0).replace(4.0,3.0).replace(5.0,6.0)\n",
    "df_pred['err_classified']=abs(df_pred['pred_classified'] - df_pred['actual_rating'])\n",
    "df_pred.drop(['details'], axis=1, inplace=True)\n",
    "\n",
    "df_pred.sample(5)"
   ]
  },
  {
   "cell_type": "code",
   "execution_count": 23,
   "id": "9d18b6f5-06a0-4738-9138-10b17f9fa637",
   "metadata": {},
   "outputs": [
    {
     "data": {
      "text/html": [
       "<div>\n",
       "<style scoped>\n",
       "    .dataframe tbody tr th:only-of-type {\n",
       "        vertical-align: middle;\n",
       "    }\n",
       "\n",
       "    .dataframe tbody tr th {\n",
       "        vertical-align: top;\n",
       "    }\n",
       "\n",
       "    .dataframe thead th {\n",
       "        text-align: right;\n",
       "    }\n",
       "</style>\n",
       "<table border=\"1\" class=\"dataframe\">\n",
       "  <thead>\n",
       "    <tr style=\"text-align: right;\">\n",
       "      <th></th>\n",
       "      <th>visitorid</th>\n",
       "      <th>itemid</th>\n",
       "      <th>actual_rating</th>\n",
       "      <th>pred_rating</th>\n",
       "      <th>impossible</th>\n",
       "      <th>abs_err</th>\n",
       "      <th>round_err</th>\n",
       "      <th>pred_classified</th>\n",
       "      <th>err_classified</th>\n",
       "    </tr>\n",
       "    <tr>\n",
       "      <th>pred_rating_round</th>\n",
       "      <th></th>\n",
       "      <th></th>\n",
       "      <th></th>\n",
       "      <th></th>\n",
       "      <th></th>\n",
       "      <th></th>\n",
       "      <th></th>\n",
       "      <th></th>\n",
       "      <th></th>\n",
       "    </tr>\n",
       "  </thead>\n",
       "  <tbody>\n",
       "    <tr>\n",
       "      <th>1.0</th>\n",
       "      <td>60220</td>\n",
       "      <td>60220</td>\n",
       "      <td>60220</td>\n",
       "      <td>60220</td>\n",
       "      <td>60220</td>\n",
       "      <td>60220</td>\n",
       "      <td>60220</td>\n",
       "      <td>60220</td>\n",
       "      <td>60220</td>\n",
       "    </tr>\n",
       "    <tr>\n",
       "      <th>2.0</th>\n",
       "      <td>11014</td>\n",
       "      <td>11014</td>\n",
       "      <td>11014</td>\n",
       "      <td>11014</td>\n",
       "      <td>11014</td>\n",
       "      <td>11014</td>\n",
       "      <td>11014</td>\n",
       "      <td>11014</td>\n",
       "      <td>11014</td>\n",
       "    </tr>\n",
       "    <tr>\n",
       "      <th>3.0</th>\n",
       "      <td>2548</td>\n",
       "      <td>2548</td>\n",
       "      <td>2548</td>\n",
       "      <td>2548</td>\n",
       "      <td>2548</td>\n",
       "      <td>2548</td>\n",
       "      <td>2548</td>\n",
       "      <td>2548</td>\n",
       "      <td>2548</td>\n",
       "    </tr>\n",
       "    <tr>\n",
       "      <th>4.0</th>\n",
       "      <td>868</td>\n",
       "      <td>868</td>\n",
       "      <td>868</td>\n",
       "      <td>868</td>\n",
       "      <td>868</td>\n",
       "      <td>868</td>\n",
       "      <td>868</td>\n",
       "      <td>868</td>\n",
       "      <td>868</td>\n",
       "    </tr>\n",
       "    <tr>\n",
       "      <th>5.0</th>\n",
       "      <td>257</td>\n",
       "      <td>257</td>\n",
       "      <td>257</td>\n",
       "      <td>257</td>\n",
       "      <td>257</td>\n",
       "      <td>257</td>\n",
       "      <td>257</td>\n",
       "      <td>257</td>\n",
       "      <td>257</td>\n",
       "    </tr>\n",
       "    <tr>\n",
       "      <th>6.0</th>\n",
       "      <td>482</td>\n",
       "      <td>482</td>\n",
       "      <td>482</td>\n",
       "      <td>482</td>\n",
       "      <td>482</td>\n",
       "      <td>482</td>\n",
       "      <td>482</td>\n",
       "      <td>482</td>\n",
       "      <td>482</td>\n",
       "    </tr>\n",
       "  </tbody>\n",
       "</table>\n",
       "</div>"
      ],
      "text/plain": [
       "                   visitorid  itemid  actual_rating  pred_rating  impossible  \\\n",
       "pred_rating_round                                                              \n",
       "1.0                    60220   60220          60220        60220       60220   \n",
       "2.0                    11014   11014          11014        11014       11014   \n",
       "3.0                     2548    2548           2548         2548        2548   \n",
       "4.0                      868     868            868          868         868   \n",
       "5.0                      257     257            257          257         257   \n",
       "6.0                      482     482            482          482         482   \n",
       "\n",
       "                   abs_err  round_err  pred_classified  err_classified  \n",
       "pred_rating_round                                                       \n",
       "1.0                  60220      60220            60220           60220  \n",
       "2.0                  11014      11014            11014           11014  \n",
       "3.0                   2548       2548             2548            2548  \n",
       "4.0                    868        868              868             868  \n",
       "5.0                    257        257              257             257  \n",
       "6.0                    482        482              482             482  "
      ]
     },
     "execution_count": 23,
     "metadata": {},
     "output_type": "execute_result"
    }
   ],
   "source": [
    "#test cell\n",
    "df_pred.groupby(\"pred_rating_round\").count()\n"
   ]
  },
  {
   "cell_type": "code",
   "execution_count": 13,
   "id": "022e544d-62da-4942-900a-fb36069e6f06",
   "metadata": {},
   "outputs": [
    {
     "data": {
      "image/png": "[encoded data removed]",
      "text/plain": [
       "<Figure size 1008x288 with 2 Axes>"
      ]
     },
     "metadata": {
      "needs_background": "light"
     },
     "output_type": "display_data"
    }
   ],
   "source": [
    "#actual&prediction plot\n",
    "\n",
    "palette = sns.color_palette(\"RdBu\", 10)\n",
    "fig, (ax1, ax2) = plt.subplots(nrows=1, ncols=2, figsize=(14, 4))\n",
    "\n",
    "sns.countplot(x='actual_rating', data=df_pred, palette=palette, ax=ax1)\n",
    "ax1.set_title('Distribution of actual ratings of items in the test set')\n",
    "\n",
    "sns.countplot(x='pred_rating_round', data=df_pred, palette=palette, ax=ax2)\n",
    "ax2.set_title('Distribution of predicted ratings of items in the test set')\n",
    "\n",
    "plt.show()"
   ]
  },
  {
   "cell_type": "code",
   "execution_count": 24,
   "id": "ed480876-ee4d-41bd-971f-723e98d3d496",
   "metadata": {},
   "outputs": [
    {
     "name": "stderr",
     "output_type": "stream",
     "text": [
      "/opt/conda/lib/python3.9/site-packages/seaborn/distributions.py:2619: FutureWarning: `distplot` is a deprecated function and will be removed in a future version. Please adapt your code to use either `displot` (a figure-level function with similar flexibility) or `histplot` (an axes-level function for histograms).\n",
      "  warnings.warn(msg, FutureWarning)\n"
     ]
    },
    {
     "data": {
      "image/png": "[encoded data removed]",
      "text/plain": [
       "<Figure size 1008x288 with 2 Axes>"
      ]
     },
     "metadata": {
      "needs_background": "light"
     },
     "output_type": "display_data"
    }
   ],
   "source": [
    "#error distribution plot\n",
    "df_pred_err = df_pred.groupby('actual_rating')['abs_err'].mean().reset_index()\n",
    "\n",
    "fig, (ax1, ax2) = plt.subplots(nrows=1, ncols=2, figsize=(14, 4))\n",
    "\n",
    "sns.distplot(df_pred['abs_err'], color='#2f6194', ax=ax1)\n",
    "ax1.set_title('Distribution of absolute error in test set')\n",
    "sns.barplot(x='actual_rating', y='abs_err', data=df_pred_err, palette=palette, ax=ax2)\n",
    "ax2.set_title('Mean absolute error for rating in test set')\n",
    "\n",
    "plt.show()"
   ]
  },
  {
   "cell_type": "code",
   "execution_count": null,
   "id": "6fd901e0-b1fd-4bc5-a67a-79c5cd28252b",
   "metadata": {},
   "outputs": [],
   "source": []
  }
 ],
 "metadata": {
  "kernelspec": {
   "display_name": "Python 3 (ipykernel)",
   "language": "python",
   "name": "python3"
  },
  "language_info": {
   "codemirror_mode": {
    "name": "ipython",
    "version": 3
   },
   "file_extension": ".py",
   "mimetype": "text/x-python",
   "name": "python",
   "nbconvert_exporter": "python",
   "pygments_lexer": "ipython3",
   "version": "3.9.7"
  }
 },
 "nbformat": 4,
 "nbformat_minor": 5
}