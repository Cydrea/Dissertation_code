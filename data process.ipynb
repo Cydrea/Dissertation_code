{
 "cells": [
  {
   "cell_type": "code",
   "execution_count": 1,
   "metadata": {
    "collapsed": true
   },
   "outputs": [],
   "source": [
    "#import packages\n",
    "\n",
    "import pandas as pd\n",
    "\n",
    "%matplotlib inline\n",
    "import matplotlib.pyplot as plt\n"
   ]
  },
  {
   "cell_type": "code",
   "execution_count": 30,
   "outputs": [
    {
     "data": {
      "text/plain": "             timestamp  visitorid event  itemid  transactionid\n0        1433221332117     257597  view  355908            NaN\n1        1433224214164     992329  view  248676            NaN\n2        1433221999827     111016  view  318965            NaN\n3        1433221955914     483717  view  253185            NaN\n4        1433221337106     951259  view  367447            NaN\n...                ...        ...   ...     ...            ...\n2756096  1438398785939     591435  view  261427            NaN\n2756097  1438399813142     762376  view  115946            NaN\n2756098  1438397820527    1251746  view   78144            NaN\n2756099  1438398530703    1184451  view  283392            NaN\n2756100  1438400163914     199536  view  152913            NaN\n\n[2756101 rows x 5 columns]",
      "text/html": "<div>\n<style scoped>\n    .dataframe tbody tr th:only-of-type {\n        vertical-align: middle;\n    }\n\n    .dataframe tbody tr th {\n        vertical-align: top;\n    }\n\n    .dataframe thead th {\n        text-align: right;\n    }\n</style>\n<table border=\"1\" class=\"dataframe\">\n  <thead>\n    <tr style=\"text-align: right;\">\n      <th></th>\n      <th>timestamp</th>\n      <th>visitorid</th>\n      <th>event</th>\n      <th>itemid</th>\n      <th>transactionid</th>\n    </tr>\n  </thead>\n  <tbody>\n    <tr>\n      <th>0</th>\n      <td>1433221332117</td>\n      <td>257597</td>\n      <td>view</td>\n      <td>355908</td>\n      <td>NaN</td>\n    </tr>\n    <tr>\n      <th>1</th>\n      <td>1433224214164</td>\n      <td>992329</td>\n      <td>view</td>\n      <td>248676</td>\n      <td>NaN</td>\n    </tr>\n    <tr>\n      <th>2</th>\n      <td>1433221999827</td>\n      <td>111016</td>\n      <td>view</td>\n      <td>318965</td>\n      <td>NaN</td>\n    </tr>\n    <tr>\n      <th>3</th>\n      <td>1433221955914</td>\n      <td>483717</td>\n      <td>view</td>\n      <td>253185</td>\n      <td>NaN</td>\n    </tr>\n    <tr>\n      <th>4</th>\n      <td>1433221337106</td>\n      <td>951259</td>\n      <td>view</td>\n      <td>367447</td>\n      <td>NaN</td>\n    </tr>\n    <tr>\n      <th>...</th>\n      <td>...</td>\n      <td>...</td>\n      <td>...</td>\n      <td>...</td>\n      <td>...</td>\n    </tr>\n    <tr>\n      <th>2756096</th>\n      <td>1438398785939</td>\n      <td>591435</td>\n      <td>view</td>\n      <td>261427</td>\n      <td>NaN</td>\n    </tr>\n    <tr>\n      <th>2756097</th>\n      <td>1438399813142</td>\n      <td>762376</td>\n      <td>view</td>\n      <td>115946</td>\n      <td>NaN</td>\n    </tr>\n    <tr>\n      <th>2756098</th>\n      <td>1438397820527</td>\n      <td>1251746</td>\n      <td>view</td>\n      <td>78144</td>\n      <td>NaN</td>\n    </tr>\n    <tr>\n      <th>2756099</th>\n      <td>1438398530703</td>\n      <td>1184451</td>\n      <td>view</td>\n      <td>283392</td>\n      <td>NaN</td>\n    </tr>\n    <tr>\n      <th>2756100</th>\n      <td>1438400163914</td>\n      <td>199536</td>\n      <td>view</td>\n      <td>152913</td>\n      <td>NaN</td>\n    </tr>\n  </tbody>\n</table>\n<p>2756101 rows × 5 columns</p>\n</div>"
     },
     "execution_count": 30,
     "metadata": {},
     "output_type": "execute_result"
    }
   ],
   "source": [
    "\"\"\"\n",
    "the first step is to import and examine the original dataset.\n",
    "\"\"\"\n",
    "\n",
    "events_df = pd.read_csv('events.csv')#.drop(columns='Unnamed: 0')\n",
    "events_df"
   ],
   "metadata": {
    "collapsed": false,
    "pycharm": {
     "name": "#%%\n"
    }
   }
  },
  {
   "cell_type": "code",
   "execution_count": 31,
   "outputs": [
    {
     "name": "stdout",
     "output_type": "stream",
     "text": [
      "timestamp        2756101\n",
      "visitorid        2756101\n",
      "event            2756101\n",
      "itemid           2756101\n",
      "transactionid      22457\n",
      "dtype: int64\n",
      "timestamp        1407580\n",
      "event            1407580\n",
      "itemid           1407580\n",
      "transactionid    1407580\n",
      "dtype: int64\n"
     ]
    }
   ],
   "source": [
    "\"\"\"\n",
    "and the data characteristics.\n",
    "\"\"\"\n",
    "print(events_df.count())\n",
    "print(events_df.groupby(\"visitorid\").count().count())"
   ],
   "metadata": {
    "collapsed": false,
    "pycharm": {
     "name": "#%%\n"
    }
   }
  },
  {
   "cell_type": "code",
   "execution_count": 32,
   "outputs": [
    {
     "data": {
      "text/plain": "timestamp        1001560\nevent            1001560\nitemid           1001560\ntransactionid    1001560\ndtype: int64"
     },
     "execution_count": 32,
     "metadata": {},
     "output_type": "execute_result"
    }
   ],
   "source": [
    "event_count=events_df.groupby(\"visitorid\").count()\n",
    "view1=event_count[event_count.event==1]\n",
    "view1.count()"
   ],
   "metadata": {
    "collapsed": false,
    "pycharm": {
     "name": "#%%\n"
    }
   }
  },
  {
   "cell_type": "markdown",
   "source": [
    "STEP ONE\n",
    "\n",
    "we can know that the data contains many users who had made only one\n",
    "interaction.\n",
    "\n",
    "data washing: clean all visitors whose event is only one \"view\"."
   ],
   "metadata": {
    "collapsed": false
   }
  },
  {
   "cell_type": "code",
   "execution_count": 9,
   "outputs": [
    {
     "data": {
      "text/plain": "             timestamp  visitorid event  itemid  transactionid\n4        1433221337106     951259  view  367447            NaN\n10       1433222162373     176446  view   10572            NaN\n16       1433223239808    1377281  view  251467            NaN\n18       1433224244282    1370216  view  176721            NaN\n23       1433221275206     864246  view   36642            NaN\n...                ...        ...   ...     ...            ...\n2756083  1438401803214    1392454  view    4148            NaN\n2756093  1438400498250     226214  view  190530            NaN\n2756096  1438398785939     591435  view  261427            NaN\n2756097  1438399813142     762376  view  115946            NaN\n2756099  1438398530703    1184451  view  283392            NaN\n\n[1001560 rows x 5 columns]",
      "text/html": "<div>\n<style scoped>\n    .dataframe tbody tr th:only-of-type {\n        vertical-align: middle;\n    }\n\n    .dataframe tbody tr th {\n        vertical-align: top;\n    }\n\n    .dataframe thead th {\n        text-align: right;\n    }\n</style>\n<table border=\"1\" class=\"dataframe\">\n  <thead>\n    <tr style=\"text-align: right;\">\n      <th></th>\n      <th>timestamp</th>\n      <th>visitorid</th>\n      <th>event</th>\n      <th>itemid</th>\n      <th>transactionid</th>\n    </tr>\n  </thead>\n  <tbody>\n    <tr>\n      <th>4</th>\n      <td>1433221337106</td>\n      <td>951259</td>\n      <td>view</td>\n      <td>367447</td>\n      <td>NaN</td>\n    </tr>\n    <tr>\n      <th>10</th>\n      <td>1433222162373</td>\n      <td>176446</td>\n      <td>view</td>\n      <td>10572</td>\n      <td>NaN</td>\n    </tr>\n    <tr>\n      <th>16</th>\n      <td>1433223239808</td>\n      <td>1377281</td>\n      <td>view</td>\n      <td>251467</td>\n      <td>NaN</td>\n    </tr>\n    <tr>\n      <th>18</th>\n      <td>1433224244282</td>\n      <td>1370216</td>\n      <td>view</td>\n      <td>176721</td>\n      <td>NaN</td>\n    </tr>\n    <tr>\n      <th>23</th>\n      <td>1433221275206</td>\n      <td>864246</td>\n      <td>view</td>\n      <td>36642</td>\n      <td>NaN</td>\n    </tr>\n    <tr>\n      <th>...</th>\n      <td>...</td>\n      <td>...</td>\n      <td>...</td>\n      <td>...</td>\n      <td>...</td>\n    </tr>\n    <tr>\n      <th>2756083</th>\n      <td>1438401803214</td>\n      <td>1392454</td>\n      <td>view</td>\n      <td>4148</td>\n      <td>NaN</td>\n    </tr>\n    <tr>\n      <th>2756093</th>\n      <td>1438400498250</td>\n      <td>226214</td>\n      <td>view</td>\n      <td>190530</td>\n      <td>NaN</td>\n    </tr>\n    <tr>\n      <th>2756096</th>\n      <td>1438398785939</td>\n      <td>591435</td>\n      <td>view</td>\n      <td>261427</td>\n      <td>NaN</td>\n    </tr>\n    <tr>\n      <th>2756097</th>\n      <td>1438399813142</td>\n      <td>762376</td>\n      <td>view</td>\n      <td>115946</td>\n      <td>NaN</td>\n    </tr>\n    <tr>\n      <th>2756099</th>\n      <td>1438398530703</td>\n      <td>1184451</td>\n      <td>view</td>\n      <td>283392</td>\n      <td>NaN</td>\n    </tr>\n  </tbody>\n</table>\n<p>1001560 rows × 5 columns</p>\n</div>"
     },
     "execution_count": 9,
     "metadata": {},
     "output_type": "execute_result"
    }
   ],
   "source": [
    "\"\"\"\n",
    "a natural way is to group by visitor_id, and find groups that contains\n",
    "only one event.\n",
    "\"\"\"\n",
    "\n",
    "one_event=events_df[events_df.visitorid.isin(view1.index)]\n",
    "one_event"
   ],
   "metadata": {
    "collapsed": false,
    "pycharm": {
     "name": "#%%\n"
    }
   }
  },
  {
   "cell_type": "code",
   "execution_count": 12,
   "outputs": [
    {
     "data": {
      "text/plain": "             timestamp  visitorid  itemid  transactionid\nevent                                                   \naddtocart         2537       2537    2537              0\ntransaction         70         70      70             70\nview            998953     998953  998953              0",
      "text/html": "<div>\n<style scoped>\n    .dataframe tbody tr th:only-of-type {\n        vertical-align: middle;\n    }\n\n    .dataframe tbody tr th {\n        vertical-align: top;\n    }\n\n    .dataframe thead th {\n        text-align: right;\n    }\n</style>\n<table border=\"1\" class=\"dataframe\">\n  <thead>\n    <tr style=\"text-align: right;\">\n      <th></th>\n      <th>timestamp</th>\n      <th>visitorid</th>\n      <th>itemid</th>\n      <th>transactionid</th>\n    </tr>\n    <tr>\n      <th>event</th>\n      <th></th>\n      <th></th>\n      <th></th>\n      <th></th>\n    </tr>\n  </thead>\n  <tbody>\n    <tr>\n      <th>addtocart</th>\n      <td>2537</td>\n      <td>2537</td>\n      <td>2537</td>\n      <td>0</td>\n    </tr>\n    <tr>\n      <th>transaction</th>\n      <td>70</td>\n      <td>70</td>\n      <td>70</td>\n      <td>70</td>\n    </tr>\n    <tr>\n      <th>view</th>\n      <td>998953</td>\n      <td>998953</td>\n      <td>998953</td>\n      <td>0</td>\n    </tr>\n  </tbody>\n</table>\n</div>"
     },
     "execution_count": 12,
     "metadata": {},
     "output_type": "execute_result"
    }
   ],
   "source": [
    "\"\"\"\n",
    "However, there are some visitors who leaves only one interaction, but\n",
    "it is not \"view\".\n",
    "\"\"\"\n",
    "\n",
    "one_event.groupby(\"event\").count()\n",
    "\n"
   ],
   "metadata": {
    "collapsed": false,
    "pycharm": {
     "name": "#%%\n"
    }
   }
  },
  {
   "cell_type": "code",
   "execution_count": 34,
   "outputs": [
    {
     "data": {
      "text/plain": "             timestamp  visitorid      event  itemid  transactionid\n0        1433221332117     257597       view  355908            NaN\n1        1433224214164     992329       view  248676            NaN\n2        1433221999827     111016       view  318965            NaN\n3        1433221955914     483717       view  253185            NaN\n5        1433224086234     972639       view   22556            NaN\n...                ...        ...        ...     ...            ...\n2752156  1438382070092    1242522  addtocart   79572            NaN\n2752706  1438406175062    1234066  addtocart  448690            NaN\n2752754  1438348670144     772436  addtocart   56230            NaN\n2754140  1438366420897     932481  addtocart  158448            NaN\n2754880  1438368701962    1343602  addtocart  231482            NaN\n\n[1757148 rows x 5 columns]",
      "text/html": "<div>\n<style scoped>\n    .dataframe tbody tr th:only-of-type {\n        vertical-align: middle;\n    }\n\n    .dataframe tbody tr th {\n        vertical-align: top;\n    }\n\n    .dataframe thead th {\n        text-align: right;\n    }\n</style>\n<table border=\"1\" class=\"dataframe\">\n  <thead>\n    <tr style=\"text-align: right;\">\n      <th></th>\n      <th>timestamp</th>\n      <th>visitorid</th>\n      <th>event</th>\n      <th>itemid</th>\n      <th>transactionid</th>\n    </tr>\n  </thead>\n  <tbody>\n    <tr>\n      <th>0</th>\n      <td>1433221332117</td>\n      <td>257597</td>\n      <td>view</td>\n      <td>355908</td>\n      <td>NaN</td>\n    </tr>\n    <tr>\n      <th>1</th>\n      <td>1433224214164</td>\n      <td>992329</td>\n      <td>view</td>\n      <td>248676</td>\n      <td>NaN</td>\n    </tr>\n    <tr>\n      <th>2</th>\n      <td>1433221999827</td>\n      <td>111016</td>\n      <td>view</td>\n      <td>318965</td>\n      <td>NaN</td>\n    </tr>\n    <tr>\n      <th>3</th>\n      <td>1433221955914</td>\n      <td>483717</td>\n      <td>view</td>\n      <td>253185</td>\n      <td>NaN</td>\n    </tr>\n    <tr>\n      <th>5</th>\n      <td>1433224086234</td>\n      <td>972639</td>\n      <td>view</td>\n      <td>22556</td>\n      <td>NaN</td>\n    </tr>\n    <tr>\n      <th>...</th>\n      <td>...</td>\n      <td>...</td>\n      <td>...</td>\n      <td>...</td>\n      <td>...</td>\n    </tr>\n    <tr>\n      <th>2752156</th>\n      <td>1438382070092</td>\n      <td>1242522</td>\n      <td>addtocart</td>\n      <td>79572</td>\n      <td>NaN</td>\n    </tr>\n    <tr>\n      <th>2752706</th>\n      <td>1438406175062</td>\n      <td>1234066</td>\n      <td>addtocart</td>\n      <td>448690</td>\n      <td>NaN</td>\n    </tr>\n    <tr>\n      <th>2752754</th>\n      <td>1438348670144</td>\n      <td>772436</td>\n      <td>addtocart</td>\n      <td>56230</td>\n      <td>NaN</td>\n    </tr>\n    <tr>\n      <th>2754140</th>\n      <td>1438366420897</td>\n      <td>932481</td>\n      <td>addtocart</td>\n      <td>158448</td>\n      <td>NaN</td>\n    </tr>\n    <tr>\n      <th>2754880</th>\n      <td>1438368701962</td>\n      <td>1343602</td>\n      <td>addtocart</td>\n      <td>231482</td>\n      <td>NaN</td>\n    </tr>\n  </tbody>\n</table>\n<p>1757148 rows × 5 columns</p>\n</div>"
     },
     "execution_count": 34,
     "metadata": {},
     "output_type": "execute_result"
    }
   ],
   "source": [
    "\"\"\"\n",
    "so the way to filter records made by mis-clicking is to drop useless\n",
    "data by combining useful data together.\n",
    "\n",
    "df1, df2 contains the data created from:\n",
    "df1: the visitors who created >=2 interactions.\n",
    "df2: the visitors whose unique interaction is not \"view\".\n",
    "\"\"\"\n",
    "\n",
    "\n",
    "viewMulti=event_count[event_count.event!=1]\n",
    "df1=events_df[events_df.visitorid.isin(viewMulti.index)]\n",
    "df2=one_event[one_event.event!=\"view\"]\n",
    "useful_events=pd.concat([df1,df2]).reindex()\n",
    "useful_events"
   ],
   "metadata": {
    "collapsed": false,
    "pycharm": {
     "name": "#%%\n"
    }
   }
  },
  {
   "cell_type": "markdown",
   "source": [
    "turn washed data to csv file"
   ],
   "metadata": {
    "collapsed": false
   }
  },
  {
   "cell_type": "code",
   "execution_count": null,
   "outputs": [],
   "source": [
    "useful_events.to_csv(\"useful events.csv\")\n",
    "\n"
   ],
   "metadata": {
    "collapsed": false,
    "pycharm": {
     "name": "#%%\n"
    }
   }
  },
  {
   "cell_type": "markdown",
   "source": [
    "STEP TWO\n",
    "\n",
    "finding the count of events each visitor created\n",
    "raw2, data are legacy vars\n",
    "\n",
    "**most visitors have created 2-7 events**\n"
   ],
   "metadata": {
    "collapsed": false
   }
  },
  {
   "cell_type": "code",
   "execution_count": 35,
   "outputs": [],
   "source": [
    "events_df = pd.read_csv('useful events.csv').drop(columns='Unnamed: 0')"
   ],
   "metadata": {
    "collapsed": false,
    "pycharm": {
     "name": "#%%\n"
    }
   }
  },
  {
   "cell_type": "code",
   "execution_count": 45,
   "outputs": [
    {
     "data": {
      "text/plain": "       timestamp  itemid  transactionid\nevent                                  \n1           2607    2607           2607\n2         205992  205992         205992\n3          79612   79612          79612\n4          38796   38796          38796\n5          22967   22967          22967\n6          14178   14178          14178\n7           9482    9482           9482\n8           6812    6812           6812\n9           4940    4940           4940\n10          3659    3659           3659\n11          2831    2831           2831\n12          2217    2217           2217\n13          1822    1822           1822\n14          1511    1511           1511\n15          1269    1269           1269",
      "text/html": "<div>\n<style scoped>\n    .dataframe tbody tr th:only-of-type {\n        vertical-align: middle;\n    }\n\n    .dataframe tbody tr th {\n        vertical-align: top;\n    }\n\n    .dataframe thead th {\n        text-align: right;\n    }\n</style>\n<table border=\"1\" class=\"dataframe\">\n  <thead>\n    <tr style=\"text-align: right;\">\n      <th></th>\n      <th>timestamp</th>\n      <th>itemid</th>\n      <th>transactionid</th>\n    </tr>\n    <tr>\n      <th>event</th>\n      <th></th>\n      <th></th>\n      <th></th>\n    </tr>\n  </thead>\n  <tbody>\n    <tr>\n      <th>1</th>\n      <td>2607</td>\n      <td>2607</td>\n      <td>2607</td>\n    </tr>\n    <tr>\n      <th>2</th>\n      <td>205992</td>\n      <td>205992</td>\n      <td>205992</td>\n    </tr>\n    <tr>\n      <th>3</th>\n      <td>79612</td>\n      <td>79612</td>\n      <td>79612</td>\n    </tr>\n    <tr>\n      <th>4</th>\n      <td>38796</td>\n      <td>38796</td>\n      <td>38796</td>\n    </tr>\n    <tr>\n      <th>5</th>\n      <td>22967</td>\n      <td>22967</td>\n      <td>22967</td>\n    </tr>\n    <tr>\n      <th>6</th>\n      <td>14178</td>\n      <td>14178</td>\n      <td>14178</td>\n    </tr>\n    <tr>\n      <th>7</th>\n      <td>9482</td>\n      <td>9482</td>\n      <td>9482</td>\n    </tr>\n    <tr>\n      <th>8</th>\n      <td>6812</td>\n      <td>6812</td>\n      <td>6812</td>\n    </tr>\n    <tr>\n      <th>9</th>\n      <td>4940</td>\n      <td>4940</td>\n      <td>4940</td>\n    </tr>\n    <tr>\n      <th>10</th>\n      <td>3659</td>\n      <td>3659</td>\n      <td>3659</td>\n    </tr>\n    <tr>\n      <th>11</th>\n      <td>2831</td>\n      <td>2831</td>\n      <td>2831</td>\n    </tr>\n    <tr>\n      <th>12</th>\n      <td>2217</td>\n      <td>2217</td>\n      <td>2217</td>\n    </tr>\n    <tr>\n      <th>13</th>\n      <td>1822</td>\n      <td>1822</td>\n      <td>1822</td>\n    </tr>\n    <tr>\n      <th>14</th>\n      <td>1511</td>\n      <td>1511</td>\n      <td>1511</td>\n    </tr>\n    <tr>\n      <th>15</th>\n      <td>1269</td>\n      <td>1269</td>\n      <td>1269</td>\n    </tr>\n  </tbody>\n</table>\n</div>"
     },
     "execution_count": 45,
     "metadata": {},
     "output_type": "execute_result"
    }
   ],
   "source": [
    "\"\"\"\n",
    "the next step is to delete visitors who have created too few events.\n",
    "this cell is to find the distribution of the amount of events of each visitor.\n",
    "\"\"\"\n",
    "raw0=events_df.groupby(\"visitorid\").count()\n",
    "raw1=raw0.groupby(\"event\").count()\n",
    "raw1.head(15)"
   ],
   "metadata": {
    "collapsed": false,
    "pycharm": {
     "name": "#%%\n"
    }
   }
  },
  {
   "cell_type": "code",
   "execution_count": 49,
   "outputs": [
    {
     "data": {
      "text/plain": "[<matplotlib.lines.Line2D at 0x27185acdd30>]"
     },
     "execution_count": 49,
     "metadata": {},
     "output_type": "execute_result"
    },
    {
     "data": {
      "text/plain": "<Figure size 432x288 with 1 Axes>",
      "image/png": "[encoded data removed]"
     },
     "metadata": {
      "needs_background": "dark"
     },
     "output_type": "display_data"
    }
   ],
   "source": [
    "x=[ 1,  2,  3,  4,  5,  6,  7,  8,  9, 10, 11, 12, 13, 14, 15]\n",
    "y=[  2607, 205992,  79612,  38796,  22967,  14178,   9482,   6812,\n",
    "         4940,   3659,   2831,   2217,   1822,   1511,   1269]\n",
    "plt.xlabel(\"events count\")\n",
    "plt.ylabel(\"visitor count\")\n",
    "plt.tick_params(axis=\"x\",colors=\"white\")\n",
    "plt.tick_params(axis=\"y\",colors=\"white\")\n",
    "plt.plot(x,y)\n"
   ],
   "metadata": {
    "collapsed": false,
    "pycharm": {
     "name": "#%%\n"
    }
   }
  },
  {
   "cell_type": "code",
   "execution_count": 51,
   "outputs": [
    {
     "data": {
      "text/plain": "             timestamp  visitorid      event  itemid  transactionid\n1        1433224214164     992329       view  248676            NaN\n19       1433223203944     125625       view   17655            NaN\n21       1433222147345    1076270       view  262799            NaN\n23       1433221377547    1153198       view  388242            NaN\n27       1433224644638     361387       view   43485            NaN\n...                ...        ...        ...     ...            ...\n1754534  1438399811281     804736  addtocart  346534            NaN\n1754535  1438398087349     126458       view  439758            NaN\n1754536  1438398473572     709520       view  104512            NaN\n1754537  1438399289446     701750       view  296172            NaN\n1754538  1438400574346     289041       view  156947            NaN\n\n[682260 rows x 5 columns]",
      "text/html": "<div>\n<style scoped>\n    .dataframe tbody tr th:only-of-type {\n        vertical-align: middle;\n    }\n\n    .dataframe tbody tr th {\n        vertical-align: top;\n    }\n\n    .dataframe thead th {\n        text-align: right;\n    }\n</style>\n<table border=\"1\" class=\"dataframe\">\n  <thead>\n    <tr style=\"text-align: right;\">\n      <th></th>\n      <th>timestamp</th>\n      <th>visitorid</th>\n      <th>event</th>\n      <th>itemid</th>\n      <th>transactionid</th>\n    </tr>\n  </thead>\n  <tbody>\n    <tr>\n      <th>1</th>\n      <td>1433224214164</td>\n      <td>992329</td>\n      <td>view</td>\n      <td>248676</td>\n      <td>NaN</td>\n    </tr>\n    <tr>\n      <th>19</th>\n      <td>1433223203944</td>\n      <td>125625</td>\n      <td>view</td>\n      <td>17655</td>\n      <td>NaN</td>\n    </tr>\n    <tr>\n      <th>21</th>\n      <td>1433222147345</td>\n      <td>1076270</td>\n      <td>view</td>\n      <td>262799</td>\n      <td>NaN</td>\n    </tr>\n    <tr>\n      <th>23</th>\n      <td>1433221377547</td>\n      <td>1153198</td>\n      <td>view</td>\n      <td>388242</td>\n      <td>NaN</td>\n    </tr>\n    <tr>\n      <th>27</th>\n      <td>1433224644638</td>\n      <td>361387</td>\n      <td>view</td>\n      <td>43485</td>\n      <td>NaN</td>\n    </tr>\n    <tr>\n      <th>...</th>\n      <td>...</td>\n      <td>...</td>\n      <td>...</td>\n      <td>...</td>\n      <td>...</td>\n    </tr>\n    <tr>\n      <th>1754534</th>\n      <td>1438399811281</td>\n      <td>804736</td>\n      <td>addtocart</td>\n      <td>346534</td>\n      <td>NaN</td>\n    </tr>\n    <tr>\n      <th>1754535</th>\n      <td>1438398087349</td>\n      <td>126458</td>\n      <td>view</td>\n      <td>439758</td>\n      <td>NaN</td>\n    </tr>\n    <tr>\n      <th>1754536</th>\n      <td>1438398473572</td>\n      <td>709520</td>\n      <td>view</td>\n      <td>104512</td>\n      <td>NaN</td>\n    </tr>\n    <tr>\n      <th>1754537</th>\n      <td>1438399289446</td>\n      <td>701750</td>\n      <td>view</td>\n      <td>296172</td>\n      <td>NaN</td>\n    </tr>\n    <tr>\n      <th>1754538</th>\n      <td>1438400574346</td>\n      <td>289041</td>\n      <td>view</td>\n      <td>156947</td>\n      <td>NaN</td>\n    </tr>\n  </tbody>\n</table>\n<p>682260 rows × 5 columns</p>\n</div>"
     },
     "execution_count": 51,
     "metadata": {},
     "output_type": "execute_result"
    }
   ],
   "source": [
    "\"\"\"\n",
    "find all visitors that have created 8 or more events.\n",
    "\"\"\"\n",
    "\n",
    "select1=raw0[raw0.event>=8]\n",
    "selected_df=events_df[events_df.visitorid.isin(select1.index)].reindex()\n",
    "selected_df"
   ],
   "metadata": {
    "collapsed": false,
    "pycharm": {
     "name": "#%%\n"
    }
   }
  },
  {
   "cell_type": "code",
   "execution_count": 53,
   "outputs": [],
   "source": [
    "selected_df.to_csv(\"selected events.csv\")\n"
   ],
   "metadata": {
    "collapsed": false,
    "pycharm": {
     "name": "#%%\n"
    }
   }
  },
  {
   "cell_type": "code",
   "execution_count": 54,
   "outputs": [],
   "source": [
    "\"\"\"\n",
    "the final step is to turn the raw data into formatted data structure:\n",
    "visitor_id (integer) | item_id (integer) | rating (integer or float)\n",
    "\n",
    "as for the rating, this project uses the simplest way: turn implicit data into\n",
    "explicit rating by replacing.\n",
    "\"\"\"\n",
    "events_df.loc[:,\"event\"]=events_df[\"event\"]\\\n",
    "    .replace(\"view\",1)\\\n",
    "    .replace(\"addtocart\",3)\\\n",
    "    .replace(\"transaction\",6)\\\n",
    "    .astype(\"int32\")\n"
   ],
   "metadata": {
    "collapsed": false,
    "pycharm": {
     "name": "#%%\n"
    }
   }
  },
  {
   "cell_type": "code",
   "execution_count": 55,
   "outputs": [
    {
     "data": {
      "text/plain": "        visitorid  event  itemid\n475880          2      1  216305\n477170          2      1  325215\n481568          2      1  342816\n481610          2      1  325215\n483072          2      1  342816\n483138          2      1  259884\n486158          2      1  216305\n486246          2      1  325215",
      "text/html": "<div>\n<style scoped>\n    .dataframe tbody tr th:only-of-type {\n        vertical-align: middle;\n    }\n\n    .dataframe tbody tr th {\n        vertical-align: top;\n    }\n\n    .dataframe thead th {\n        text-align: right;\n    }\n</style>\n<table border=\"1\" class=\"dataframe\">\n  <thead>\n    <tr style=\"text-align: right;\">\n      <th></th>\n      <th>visitorid</th>\n      <th>event</th>\n      <th>itemid</th>\n    </tr>\n  </thead>\n  <tbody>\n    <tr>\n      <th>475880</th>\n      <td>2</td>\n      <td>1</td>\n      <td>216305</td>\n    </tr>\n    <tr>\n      <th>477170</th>\n      <td>2</td>\n      <td>1</td>\n      <td>325215</td>\n    </tr>\n    <tr>\n      <th>481568</th>\n      <td>2</td>\n      <td>1</td>\n      <td>342816</td>\n    </tr>\n    <tr>\n      <th>481610</th>\n      <td>2</td>\n      <td>1</td>\n      <td>325215</td>\n    </tr>\n    <tr>\n      <th>483072</th>\n      <td>2</td>\n      <td>1</td>\n      <td>342816</td>\n    </tr>\n    <tr>\n      <th>483138</th>\n      <td>2</td>\n      <td>1</td>\n      <td>259884</td>\n    </tr>\n    <tr>\n      <th>486158</th>\n      <td>2</td>\n      <td>1</td>\n      <td>216305</td>\n    </tr>\n    <tr>\n      <th>486246</th>\n      <td>2</td>\n      <td>1</td>\n      <td>325215</td>\n    </tr>\n  </tbody>\n</table>\n</div>"
     },
     "execution_count": 55,
     "metadata": {},
     "output_type": "execute_result"
    }
   ],
   "source": [
    "\"\"\"\n",
    "as for the data structure, this project deletes all useless columns, create a new\n",
    "dataframe to collect data, and use a two-dimension loop to implement.\n",
    "\n",
    "the first loop is to group all events by visitors.\n",
    "\n",
    "the groups in this loop are the visitors' ratings, whose indices are visitor_id, and\n",
    "rows are the data structure as required, but not arranged.\n",
    "\n",
    "\"\"\"\n",
    "\n",
    "visitor_events=events_df.drop(labels=[\"timestamp\",\"transactionid\"],axis=1)\\\n",
    "    .groupby(\"visitorid\")\n",
    "\n",
    "visitors=visitor_events.indices\n",
    "processed_events=pd.DataFrame(data=None,columns=[\"visitorid\",\"itemid\",\"event\"])\n",
    "\n",
    "visitor_events.get_group(2)"
   ],
   "metadata": {
    "collapsed": false,
    "pycharm": {
     "name": "#%%\n"
    }
   }
  },
  {
   "cell_type": "code",
   "execution_count": null,
   "outputs": [],
   "source": [
    "\"\"\"\n",
    "the second loop is to get each groups, and combine them into a single, reformatted\n",
    "dataframe.\n",
    "\n",
    "\n",
    "WARNING: LONG PROCESSING TIME REQUIRED!\n",
    "\"\"\"\n",
    "for visitor in visitors:\n",
    "    mid1=visitor_events.get_group(visitor)\n",
    "    mid2=mid1.groupby(\"itemid\").max().reset_index()\n",
    "    processed_events=pd.concat([processed_events,mid2])\n",
    "\n"
   ],
   "metadata": {
    "collapsed": false,
    "pycharm": {
     "name": "#%%\n"
    }
   }
  },
  {
   "cell_type": "code",
   "execution_count": null,
   "outputs": [],
   "source": [
    "processed_events.reindex().to_csv(\"processed events.csv\")\n",
    "\n",
    "\n",
    "\n"
   ],
   "metadata": {
    "collapsed": false,
    "pycharm": {
     "name": "#%%\n"
    }
   }
  }
 ],
 "metadata": {
  "kernelspec": {
   "display_name": "Python 3",
   "language": "python",
   "name": "python3"
  },
  "language_info": {
   "codemirror_mode": {
    "name": "ipython",
    "version": 2
   },
   "file_extension": ".py",
   "mimetype": "text/x-python",
   "name": "python",
   "nbconvert_exporter": "python",
   "pygments_lexer": "ipython2",
   "version": "2.7.6"
  }
 },
 "nbformat": 4,
 "nbformat_minor": 0
}